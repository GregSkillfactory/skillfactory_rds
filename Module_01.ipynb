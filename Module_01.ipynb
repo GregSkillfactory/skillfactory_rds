{
 "cells": [
  {
   "cell_type": "code",
   "execution_count": 2,
   "metadata": {},
   "outputs": [
    {
     "data": {
      "text/html": [
       "<div>\n",
       "<style scoped>\n",
       "    .dataframe tbody tr th:only-of-type {\n",
       "        vertical-align: middle;\n",
       "    }\n",
       "\n",
       "    .dataframe tbody tr th {\n",
       "        vertical-align: top;\n",
       "    }\n",
       "\n",
       "    .dataframe thead th {\n",
       "        text-align: right;\n",
       "    }\n",
       "</style>\n",
       "<table border=\"1\" class=\"dataframe\">\n",
       "  <thead>\n",
       "    <tr style=\"text-align: right;\">\n",
       "      <th></th>\n",
       "      <th>imdb_id</th>\n",
       "      <th>popularity</th>\n",
       "      <th>budget</th>\n",
       "      <th>revenue</th>\n",
       "      <th>original_title</th>\n",
       "      <th>cast</th>\n",
       "      <th>director</th>\n",
       "      <th>tagline</th>\n",
       "      <th>overview</th>\n",
       "      <th>runtime</th>\n",
       "      <th>genres</th>\n",
       "      <th>production_companies</th>\n",
       "      <th>release_date</th>\n",
       "      <th>vote_count</th>\n",
       "      <th>vote_average</th>\n",
       "      <th>release_year</th>\n",
       "    </tr>\n",
       "  </thead>\n",
       "  <tbody>\n",
       "    <tr>\n",
       "      <th>0</th>\n",
       "      <td>tt0369610</td>\n",
       "      <td>32.985763</td>\n",
       "      <td>150000000</td>\n",
       "      <td>1513528810</td>\n",
       "      <td>Jurassic World</td>\n",
       "      <td>Chris Pratt|Bryce Dallas Howard|Irrfan Khan|Vi...</td>\n",
       "      <td>Colin Trevorrow</td>\n",
       "      <td>The park is open.</td>\n",
       "      <td>Twenty-two years after the events of Jurassic ...</td>\n",
       "      <td>124</td>\n",
       "      <td>Action|Adventure|Science Fiction|Thriller</td>\n",
       "      <td>Universal Studios|Amblin Entertainment|Legenda...</td>\n",
       "      <td>6/9/2015</td>\n",
       "      <td>5562</td>\n",
       "      <td>6.5</td>\n",
       "      <td>2015</td>\n",
       "    </tr>\n",
       "    <tr>\n",
       "      <th>1</th>\n",
       "      <td>tt1392190</td>\n",
       "      <td>28.419936</td>\n",
       "      <td>150000000</td>\n",
       "      <td>378436354</td>\n",
       "      <td>Mad Max: Fury Road</td>\n",
       "      <td>Tom Hardy|Charlize Theron|Hugh Keays-Byrne|Nic...</td>\n",
       "      <td>George Miller</td>\n",
       "      <td>What a Lovely Day.</td>\n",
       "      <td>An apocalyptic story set in the furthest reach...</td>\n",
       "      <td>120</td>\n",
       "      <td>Action|Adventure|Science Fiction|Thriller</td>\n",
       "      <td>Village Roadshow Pictures|Kennedy Miller Produ...</td>\n",
       "      <td>5/13/2015</td>\n",
       "      <td>6185</td>\n",
       "      <td>7.1</td>\n",
       "      <td>2015</td>\n",
       "    </tr>\n",
       "    <tr>\n",
       "      <th>2</th>\n",
       "      <td>tt2908446</td>\n",
       "      <td>13.112507</td>\n",
       "      <td>110000000</td>\n",
       "      <td>295238201</td>\n",
       "      <td>Insurgent</td>\n",
       "      <td>Shailene Woodley|Theo James|Kate Winslet|Ansel...</td>\n",
       "      <td>Robert Schwentke</td>\n",
       "      <td>One Choice Can Destroy You</td>\n",
       "      <td>Beatrice Prior must confront her inner demons ...</td>\n",
       "      <td>119</td>\n",
       "      <td>Adventure|Science Fiction|Thriller</td>\n",
       "      <td>Summit Entertainment|Mandeville Films|Red Wago...</td>\n",
       "      <td>3/18/2015</td>\n",
       "      <td>2480</td>\n",
       "      <td>6.3</td>\n",
       "      <td>2015</td>\n",
       "    </tr>\n",
       "    <tr>\n",
       "      <th>3</th>\n",
       "      <td>tt2488496</td>\n",
       "      <td>11.173104</td>\n",
       "      <td>200000000</td>\n",
       "      <td>2068178225</td>\n",
       "      <td>Star Wars: The Force Awakens</td>\n",
       "      <td>Harrison Ford|Mark Hamill|Carrie Fisher|Adam D...</td>\n",
       "      <td>J.J. Abrams</td>\n",
       "      <td>Every generation has a story.</td>\n",
       "      <td>Thirty years after defeating the Galactic Empi...</td>\n",
       "      <td>136</td>\n",
       "      <td>Action|Adventure|Science Fiction|Fantasy</td>\n",
       "      <td>Lucasfilm|Truenorth Productions|Bad Robot</td>\n",
       "      <td>12/15/2015</td>\n",
       "      <td>5292</td>\n",
       "      <td>7.5</td>\n",
       "      <td>2015</td>\n",
       "    </tr>\n",
       "    <tr>\n",
       "      <th>4</th>\n",
       "      <td>tt2820852</td>\n",
       "      <td>9.335014</td>\n",
       "      <td>190000000</td>\n",
       "      <td>1506249360</td>\n",
       "      <td>Furious 7</td>\n",
       "      <td>Vin Diesel|Paul Walker|Jason Statham|Michelle ...</td>\n",
       "      <td>James Wan</td>\n",
       "      <td>Vengeance Hits Home</td>\n",
       "      <td>Deckard Shaw seeks revenge against Dominic Tor...</td>\n",
       "      <td>137</td>\n",
       "      <td>Action|Crime|Thriller</td>\n",
       "      <td>Universal Pictures|Original Film|Media Rights ...</td>\n",
       "      <td>4/1/2015</td>\n",
       "      <td>2947</td>\n",
       "      <td>7.3</td>\n",
       "      <td>2015</td>\n",
       "    </tr>\n",
       "  </tbody>\n",
       "</table>\n",
       "</div>"
      ],
      "text/plain": [
       "     imdb_id  popularity     budget     revenue                original_title  \\\n",
       "0  tt0369610   32.985763  150000000  1513528810                Jurassic World   \n",
       "1  tt1392190   28.419936  150000000   378436354            Mad Max: Fury Road   \n",
       "2  tt2908446   13.112507  110000000   295238201                     Insurgent   \n",
       "3  tt2488496   11.173104  200000000  2068178225  Star Wars: The Force Awakens   \n",
       "4  tt2820852    9.335014  190000000  1506249360                     Furious 7   \n",
       "\n",
       "                                                cast          director  \\\n",
       "0  Chris Pratt|Bryce Dallas Howard|Irrfan Khan|Vi...   Colin Trevorrow   \n",
       "1  Tom Hardy|Charlize Theron|Hugh Keays-Byrne|Nic...     George Miller   \n",
       "2  Shailene Woodley|Theo James|Kate Winslet|Ansel...  Robert Schwentke   \n",
       "3  Harrison Ford|Mark Hamill|Carrie Fisher|Adam D...       J.J. Abrams   \n",
       "4  Vin Diesel|Paul Walker|Jason Statham|Michelle ...         James Wan   \n",
       "\n",
       "                         tagline  \\\n",
       "0              The park is open.   \n",
       "1             What a Lovely Day.   \n",
       "2     One Choice Can Destroy You   \n",
       "3  Every generation has a story.   \n",
       "4            Vengeance Hits Home   \n",
       "\n",
       "                                            overview  runtime  \\\n",
       "0  Twenty-two years after the events of Jurassic ...      124   \n",
       "1  An apocalyptic story set in the furthest reach...      120   \n",
       "2  Beatrice Prior must confront her inner demons ...      119   \n",
       "3  Thirty years after defeating the Galactic Empi...      136   \n",
       "4  Deckard Shaw seeks revenge against Dominic Tor...      137   \n",
       "\n",
       "                                      genres  \\\n",
       "0  Action|Adventure|Science Fiction|Thriller   \n",
       "1  Action|Adventure|Science Fiction|Thriller   \n",
       "2         Adventure|Science Fiction|Thriller   \n",
       "3   Action|Adventure|Science Fiction|Fantasy   \n",
       "4                      Action|Crime|Thriller   \n",
       "\n",
       "                                production_companies release_date  vote_count  \\\n",
       "0  Universal Studios|Amblin Entertainment|Legenda...     6/9/2015        5562   \n",
       "1  Village Roadshow Pictures|Kennedy Miller Produ...    5/13/2015        6185   \n",
       "2  Summit Entertainment|Mandeville Films|Red Wago...    3/18/2015        2480   \n",
       "3          Lucasfilm|Truenorth Productions|Bad Robot   12/15/2015        5292   \n",
       "4  Universal Pictures|Original Film|Media Rights ...     4/1/2015        2947   \n",
       "\n",
       "   vote_average  release_year  \n",
       "0           6.5          2015  \n",
       "1           7.1          2015  \n",
       "2           6.3          2015  \n",
       "3           7.5          2015  \n",
       "4           7.3          2015  "
      ]
     },
     "metadata": {},
     "output_type": "display_data"
    }
   ],
   "source": [
    "import pandas as pd\n",
    "\n",
    "mv = pd.read_csv('data.csv')\n",
    "display(mv.head())"
   ]
  },
  {
   "cell_type": "code",
   "execution_count": 11,
   "metadata": {},
   "outputs": [
    {
     "data": {
      "text/html": [
       "<div>\n",
       "<style scoped>\n",
       "    .dataframe tbody tr th:only-of-type {\n",
       "        vertical-align: middle;\n",
       "    }\n",
       "\n",
       "    .dataframe tbody tr th {\n",
       "        vertical-align: top;\n",
       "    }\n",
       "\n",
       "    .dataframe thead th {\n",
       "        text-align: right;\n",
       "    }\n",
       "</style>\n",
       "<table border=\"1\" class=\"dataframe\">\n",
       "  <thead>\n",
       "    <tr style=\"text-align: right;\">\n",
       "      <th></th>\n",
       "      <th>imdb_id</th>\n",
       "      <th>popularity</th>\n",
       "      <th>budget</th>\n",
       "      <th>revenue</th>\n",
       "      <th>original_title</th>\n",
       "      <th>cast</th>\n",
       "      <th>director</th>\n",
       "      <th>tagline</th>\n",
       "      <th>overview</th>\n",
       "      <th>runtime</th>\n",
       "      <th>genres</th>\n",
       "      <th>production_companies</th>\n",
       "      <th>release_date</th>\n",
       "      <th>vote_count</th>\n",
       "      <th>vote_average</th>\n",
       "      <th>release_year</th>\n",
       "    </tr>\n",
       "  </thead>\n",
       "  <tbody>\n",
       "    <tr>\n",
       "      <th>491</th>\n",
       "      <td>tt1032751</td>\n",
       "      <td>0.25054</td>\n",
       "      <td>425000000</td>\n",
       "      <td>11087569</td>\n",
       "      <td>The Warrior's Way</td>\n",
       "      <td>Kate Bosworth|Jang Dong-gun|Geoffrey Rush|Dann...</td>\n",
       "      <td>Sngmoo Lee</td>\n",
       "      <td>Assassin. Hero. Legend.</td>\n",
       "      <td>An Asian assassin (Dong-gun Jang) is forced to...</td>\n",
       "      <td>100</td>\n",
       "      <td>Adventure|Fantasy|Action|Western|Thriller</td>\n",
       "      <td>Boram Entertainment Inc.</td>\n",
       "      <td>12/2/2010</td>\n",
       "      <td>74</td>\n",
       "      <td>6.4</td>\n",
       "      <td>2010</td>\n",
       "    </tr>\n",
       "  </tbody>\n",
       "</table>\n",
       "</div>"
      ],
      "text/plain": [
       "       imdb_id  popularity     budget   revenue     original_title  \\\n",
       "491  tt1032751     0.25054  425000000  11087569  The Warrior's Way   \n",
       "\n",
       "                                                  cast    director  \\\n",
       "491  Kate Bosworth|Jang Dong-gun|Geoffrey Rush|Dann...  Sngmoo Lee   \n",
       "\n",
       "                     tagline  \\\n",
       "491  Assassin. Hero. Legend.   \n",
       "\n",
       "                                              overview  runtime  \\\n",
       "491  An Asian assassin (Dong-gun Jang) is forced to...      100   \n",
       "\n",
       "                                        genres      production_companies  \\\n",
       "491  Adventure|Fantasy|Action|Western|Thriller  Boram Entertainment Inc.   \n",
       "\n",
       "    release_date  vote_count  vote_average  release_year  \n",
       "491    12/2/2010          74           6.4          2010  "
      ]
     },
     "execution_count": 11,
     "metadata": {},
     "output_type": "execute_result"
    }
   ],
   "source": [
    "mv.loc[mv.budget == mv.budget.max()]"
   ]
  },
  {
   "cell_type": "code",
   "execution_count": 13,
   "metadata": {},
   "outputs": [
    {
     "data": {
      "text/html": [
       "<div>\n",
       "<style scoped>\n",
       "    .dataframe tbody tr th:only-of-type {\n",
       "        vertical-align: middle;\n",
       "    }\n",
       "\n",
       "    .dataframe tbody tr th {\n",
       "        vertical-align: top;\n",
       "    }\n",
       "\n",
       "    .dataframe thead th {\n",
       "        text-align: right;\n",
       "    }\n",
       "</style>\n",
       "<table border=\"1\" class=\"dataframe\">\n",
       "  <thead>\n",
       "    <tr style=\"text-align: right;\">\n",
       "      <th></th>\n",
       "      <th>imdb_id</th>\n",
       "      <th>popularity</th>\n",
       "      <th>budget</th>\n",
       "      <th>revenue</th>\n",
       "      <th>original_title</th>\n",
       "      <th>cast</th>\n",
       "      <th>director</th>\n",
       "      <th>tagline</th>\n",
       "      <th>overview</th>\n",
       "      <th>runtime</th>\n",
       "      <th>genres</th>\n",
       "      <th>production_companies</th>\n",
       "      <th>release_date</th>\n",
       "      <th>vote_count</th>\n",
       "      <th>vote_average</th>\n",
       "      <th>release_year</th>\n",
       "    </tr>\n",
       "  </thead>\n",
       "  <tbody>\n",
       "    <tr>\n",
       "      <th>1158</th>\n",
       "      <td>tt0279111</td>\n",
       "      <td>0.469518</td>\n",
       "      <td>56000000</td>\n",
       "      <td>12923936</td>\n",
       "      <td>Gods and Generals</td>\n",
       "      <td>Stephen Lang|Jeff Daniels|Robert Duvall|Kevin ...</td>\n",
       "      <td>Ronald F. Maxwell</td>\n",
       "      <td>The nations heart was touched by...</td>\n",
       "      <td>The film centers mostly around the personal an...</td>\n",
       "      <td>214</td>\n",
       "      <td>Drama|History|War</td>\n",
       "      <td>Turner Pictures|Antietam Filmworks</td>\n",
       "      <td>2/21/2003</td>\n",
       "      <td>23</td>\n",
       "      <td>5.8</td>\n",
       "      <td>2003</td>\n",
       "    </tr>\n",
       "  </tbody>\n",
       "</table>\n",
       "</div>"
      ],
      "text/plain": [
       "        imdb_id  popularity    budget   revenue     original_title  \\\n",
       "1158  tt0279111    0.469518  56000000  12923936  Gods and Generals   \n",
       "\n",
       "                                                   cast           director  \\\n",
       "1158  Stephen Lang|Jeff Daniels|Robert Duvall|Kevin ...  Ronald F. Maxwell   \n",
       "\n",
       "                                  tagline  \\\n",
       "1158  The nations heart was touched by...   \n",
       "\n",
       "                                               overview  runtime  \\\n",
       "1158  The film centers mostly around the personal an...      214   \n",
       "\n",
       "                 genres                production_companies release_date  \\\n",
       "1158  Drama|History|War  Turner Pictures|Antietam Filmworks    2/21/2003   \n",
       "\n",
       "      vote_count  vote_average  release_year  \n",
       "1158          23           5.8          2003  "
      ]
     },
     "execution_count": 13,
     "metadata": {},
     "output_type": "execute_result"
    }
   ],
   "source": [
    "mv.loc[mv.runtime == mv.runtime.max()]"
   ]
  },
  {
   "cell_type": "code",
   "execution_count": 14,
   "metadata": {},
   "outputs": [
    {
     "data": {
      "text/html": [
       "<div>\n",
       "<style scoped>\n",
       "    .dataframe tbody tr th:only-of-type {\n",
       "        vertical-align: middle;\n",
       "    }\n",
       "\n",
       "    .dataframe tbody tr th {\n",
       "        vertical-align: top;\n",
       "    }\n",
       "\n",
       "    .dataframe thead th {\n",
       "        text-align: right;\n",
       "    }\n",
       "</style>\n",
       "<table border=\"1\" class=\"dataframe\">\n",
       "  <thead>\n",
       "    <tr style=\"text-align: right;\">\n",
       "      <th></th>\n",
       "      <th>imdb_id</th>\n",
       "      <th>popularity</th>\n",
       "      <th>budget</th>\n",
       "      <th>revenue</th>\n",
       "      <th>original_title</th>\n",
       "      <th>cast</th>\n",
       "      <th>director</th>\n",
       "      <th>tagline</th>\n",
       "      <th>overview</th>\n",
       "      <th>runtime</th>\n",
       "      <th>genres</th>\n",
       "      <th>production_companies</th>\n",
       "      <th>release_date</th>\n",
       "      <th>vote_count</th>\n",
       "      <th>vote_average</th>\n",
       "      <th>release_year</th>\n",
       "    </tr>\n",
       "  </thead>\n",
       "  <tbody>\n",
       "    <tr>\n",
       "      <th>769</th>\n",
       "      <td>tt1449283</td>\n",
       "      <td>1.425344</td>\n",
       "      <td>30000000</td>\n",
       "      <td>14460000</td>\n",
       "      <td>Winnie the Pooh</td>\n",
       "      <td>Jim Cummings|Travis Oates|Jim Cummings|Bud Luc...</td>\n",
       "      <td>Stephen Anderson|Don Hall</td>\n",
       "      <td>Oh Pooh.</td>\n",
       "      <td>During an ordinary day in Hundred Acre Wood, W...</td>\n",
       "      <td>63</td>\n",
       "      <td>Animation|Family</td>\n",
       "      <td>Walt Disney Pictures|Walt Disney Animation Stu...</td>\n",
       "      <td>4/13/2011</td>\n",
       "      <td>174</td>\n",
       "      <td>6.8</td>\n",
       "      <td>2011</td>\n",
       "    </tr>\n",
       "  </tbody>\n",
       "</table>\n",
       "</div>"
      ],
      "text/plain": [
       "       imdb_id  popularity    budget   revenue   original_title  \\\n",
       "769  tt1449283    1.425344  30000000  14460000  Winnie the Pooh   \n",
       "\n",
       "                                                  cast  \\\n",
       "769  Jim Cummings|Travis Oates|Jim Cummings|Bud Luc...   \n",
       "\n",
       "                      director   tagline  \\\n",
       "769  Stephen Anderson|Don Hall  Oh Pooh.   \n",
       "\n",
       "                                              overview  runtime  \\\n",
       "769  During an ordinary day in Hundred Acre Wood, W...       63   \n",
       "\n",
       "               genres                               production_companies  \\\n",
       "769  Animation|Family  Walt Disney Pictures|Walt Disney Animation Stu...   \n",
       "\n",
       "    release_date  vote_count  vote_average  release_year  \n",
       "769    4/13/2011         174           6.8          2011  "
      ]
     },
     "execution_count": 14,
     "metadata": {},
     "output_type": "execute_result"
    }
   ],
   "source": [
    "mv.loc[mv.runtime == mv.runtime.min()]"
   ]
  },
  {
   "cell_type": "code",
   "execution_count": 16,
   "metadata": {},
   "outputs": [
    {
     "data": {
      "text/plain": [
       "109.65343915343915"
      ]
     },
     "execution_count": 16,
     "metadata": {},
     "output_type": "execute_result"
    }
   ],
   "source": [
    "mv.runtime.mean()"
   ]
  },
  {
   "cell_type": "code",
   "execution_count": 17,
   "metadata": {},
   "outputs": [
    {
     "data": {
      "text/plain": [
       "106.5"
      ]
     },
     "execution_count": 17,
     "metadata": {},
     "output_type": "execute_result"
    }
   ],
   "source": [
    "mv.runtime.median()"
   ]
  },
  {
   "cell_type": "code",
   "execution_count": 21,
   "metadata": {},
   "outputs": [],
   "source": [
    "mv['profit'] = mv['revenue']-mv['budget']"
   ]
  },
  {
   "cell_type": "code",
   "execution_count": 22,
   "metadata": {},
   "outputs": [
    {
     "data": {
      "text/html": [
       "<div>\n",
       "<style scoped>\n",
       "    .dataframe tbody tr th:only-of-type {\n",
       "        vertical-align: middle;\n",
       "    }\n",
       "\n",
       "    .dataframe tbody tr th {\n",
       "        vertical-align: top;\n",
       "    }\n",
       "\n",
       "    .dataframe thead th {\n",
       "        text-align: right;\n",
       "    }\n",
       "</style>\n",
       "<table border=\"1\" class=\"dataframe\">\n",
       "  <thead>\n",
       "    <tr style=\"text-align: right;\">\n",
       "      <th></th>\n",
       "      <th>imdb_id</th>\n",
       "      <th>popularity</th>\n",
       "      <th>budget</th>\n",
       "      <th>revenue</th>\n",
       "      <th>original_title</th>\n",
       "      <th>cast</th>\n",
       "      <th>director</th>\n",
       "      <th>tagline</th>\n",
       "      <th>overview</th>\n",
       "      <th>runtime</th>\n",
       "      <th>genres</th>\n",
       "      <th>production_companies</th>\n",
       "      <th>release_date</th>\n",
       "      <th>vote_count</th>\n",
       "      <th>vote_average</th>\n",
       "      <th>release_year</th>\n",
       "      <th>profit</th>\n",
       "    </tr>\n",
       "  </thead>\n",
       "  <tbody>\n",
       "    <tr>\n",
       "      <th>239</th>\n",
       "      <td>tt0499549</td>\n",
       "      <td>9.432768</td>\n",
       "      <td>237000000</td>\n",
       "      <td>2781505847</td>\n",
       "      <td>Avatar</td>\n",
       "      <td>Sam Worthington|Zoe Saldana|Sigourney Weaver|S...</td>\n",
       "      <td>James Cameron</td>\n",
       "      <td>Enter the World of Pandora.</td>\n",
       "      <td>In the 22nd century, a paraplegic Marine is di...</td>\n",
       "      <td>162</td>\n",
       "      <td>Action|Adventure|Fantasy|Science Fiction</td>\n",
       "      <td>Ingenious Film Partners|Twentieth Century Fox ...</td>\n",
       "      <td>12/10/2009</td>\n",
       "      <td>8458</td>\n",
       "      <td>7.1</td>\n",
       "      <td>2009</td>\n",
       "      <td>2544505847</td>\n",
       "    </tr>\n",
       "  </tbody>\n",
       "</table>\n",
       "</div>"
      ],
      "text/plain": [
       "       imdb_id  popularity     budget     revenue original_title  \\\n",
       "239  tt0499549    9.432768  237000000  2781505847         Avatar   \n",
       "\n",
       "                                                  cast       director  \\\n",
       "239  Sam Worthington|Zoe Saldana|Sigourney Weaver|S...  James Cameron   \n",
       "\n",
       "                         tagline  \\\n",
       "239  Enter the World of Pandora.   \n",
       "\n",
       "                                              overview  runtime  \\\n",
       "239  In the 22nd century, a paraplegic Marine is di...      162   \n",
       "\n",
       "                                       genres  \\\n",
       "239  Action|Adventure|Fantasy|Science Fiction   \n",
       "\n",
       "                                  production_companies release_date  \\\n",
       "239  Ingenious Film Partners|Twentieth Century Fox ...   12/10/2009   \n",
       "\n",
       "     vote_count  vote_average  release_year      profit  \n",
       "239        8458           7.1          2009  2544505847  "
      ]
     },
     "execution_count": 22,
     "metadata": {},
     "output_type": "execute_result"
    }
   ],
   "source": [
    "mv.loc[mv.profit == mv.profit.max()]"
   ]
  },
  {
   "cell_type": "code",
   "execution_count": 23,
   "metadata": {},
   "outputs": [
    {
     "data": {
      "text/html": [
       "<div>\n",
       "<style scoped>\n",
       "    .dataframe tbody tr th:only-of-type {\n",
       "        vertical-align: middle;\n",
       "    }\n",
       "\n",
       "    .dataframe tbody tr th {\n",
       "        vertical-align: top;\n",
       "    }\n",
       "\n",
       "    .dataframe thead th {\n",
       "        text-align: right;\n",
       "    }\n",
       "</style>\n",
       "<table border=\"1\" class=\"dataframe\">\n",
       "  <thead>\n",
       "    <tr style=\"text-align: right;\">\n",
       "      <th></th>\n",
       "      <th>imdb_id</th>\n",
       "      <th>popularity</th>\n",
       "      <th>budget</th>\n",
       "      <th>revenue</th>\n",
       "      <th>original_title</th>\n",
       "      <th>cast</th>\n",
       "      <th>director</th>\n",
       "      <th>tagline</th>\n",
       "      <th>overview</th>\n",
       "      <th>runtime</th>\n",
       "      <th>genres</th>\n",
       "      <th>production_companies</th>\n",
       "      <th>release_date</th>\n",
       "      <th>vote_count</th>\n",
       "      <th>vote_average</th>\n",
       "      <th>release_year</th>\n",
       "      <th>profit</th>\n",
       "    </tr>\n",
       "  </thead>\n",
       "  <tbody>\n",
       "    <tr>\n",
       "      <th>491</th>\n",
       "      <td>tt1032751</td>\n",
       "      <td>0.25054</td>\n",
       "      <td>425000000</td>\n",
       "      <td>11087569</td>\n",
       "      <td>The Warrior's Way</td>\n",
       "      <td>Kate Bosworth|Jang Dong-gun|Geoffrey Rush|Dann...</td>\n",
       "      <td>Sngmoo Lee</td>\n",
       "      <td>Assassin. Hero. Legend.</td>\n",
       "      <td>An Asian assassin (Dong-gun Jang) is forced to...</td>\n",
       "      <td>100</td>\n",
       "      <td>Adventure|Fantasy|Action|Western|Thriller</td>\n",
       "      <td>Boram Entertainment Inc.</td>\n",
       "      <td>12/2/2010</td>\n",
       "      <td>74</td>\n",
       "      <td>6.4</td>\n",
       "      <td>2010</td>\n",
       "      <td>-413912431</td>\n",
       "    </tr>\n",
       "  </tbody>\n",
       "</table>\n",
       "</div>"
      ],
      "text/plain": [
       "       imdb_id  popularity     budget   revenue     original_title  \\\n",
       "491  tt1032751     0.25054  425000000  11087569  The Warrior's Way   \n",
       "\n",
       "                                                  cast    director  \\\n",
       "491  Kate Bosworth|Jang Dong-gun|Geoffrey Rush|Dann...  Sngmoo Lee   \n",
       "\n",
       "                     tagline  \\\n",
       "491  Assassin. Hero. Legend.   \n",
       "\n",
       "                                              overview  runtime  \\\n",
       "491  An Asian assassin (Dong-gun Jang) is forced to...      100   \n",
       "\n",
       "                                        genres      production_companies  \\\n",
       "491  Adventure|Fantasy|Action|Western|Thriller  Boram Entertainment Inc.   \n",
       "\n",
       "    release_date  vote_count  vote_average  release_year     profit  \n",
       "491    12/2/2010          74           6.4          2010 -413912431  "
      ]
     },
     "execution_count": 23,
     "metadata": {},
     "output_type": "execute_result"
    }
   ],
   "source": [
    "mv.loc[mv.profit == mv.profit.min()]"
   ]
  },
  {
   "cell_type": "code",
   "execution_count": 32,
   "metadata": {},
   "outputs": [
    {
     "data": {
      "text/plain": [
       "imdb_id                 1478\n",
       "popularity              1478\n",
       "budget                  1478\n",
       "revenue                 1478\n",
       "original_title          1478\n",
       "cast                    1478\n",
       "director                1478\n",
       "tagline                 1478\n",
       "overview                1478\n",
       "runtime                 1478\n",
       "genres                  1478\n",
       "production_companies    1478\n",
       "release_date            1478\n",
       "vote_count              1478\n",
       "vote_average            1478\n",
       "release_year            1478\n",
       "profit                  1478\n",
       "dtype: int64"
      ]
     },
     "execution_count": 32,
     "metadata": {},
     "output_type": "execute_result"
    }
   ],
   "source": [
    "mv[(mv.profit > 0)].count()"
   ]
  },
  {
   "cell_type": "code",
   "execution_count": 34,
   "metadata": {},
   "outputs": [
    {
     "data": {
      "text/html": [
       "<div>\n",
       "<style scoped>\n",
       "    .dataframe tbody tr th:only-of-type {\n",
       "        vertical-align: middle;\n",
       "    }\n",
       "\n",
       "    .dataframe tbody tr th {\n",
       "        vertical-align: top;\n",
       "    }\n",
       "\n",
       "    .dataframe thead th {\n",
       "        text-align: right;\n",
       "    }\n",
       "</style>\n",
       "<table border=\"1\" class=\"dataframe\">\n",
       "  <thead>\n",
       "    <tr style=\"text-align: right;\">\n",
       "      <th></th>\n",
       "      <th>imdb_id</th>\n",
       "      <th>popularity</th>\n",
       "      <th>budget</th>\n",
       "      <th>revenue</th>\n",
       "      <th>original_title</th>\n",
       "      <th>cast</th>\n",
       "      <th>director</th>\n",
       "      <th>tagline</th>\n",
       "      <th>overview</th>\n",
       "      <th>runtime</th>\n",
       "      <th>genres</th>\n",
       "      <th>production_companies</th>\n",
       "      <th>release_date</th>\n",
       "      <th>vote_count</th>\n",
       "      <th>vote_average</th>\n",
       "      <th>release_year</th>\n",
       "      <th>profit</th>\n",
       "    </tr>\n",
       "  </thead>\n",
       "  <tbody>\n",
       "    <tr>\n",
       "      <th>600</th>\n",
       "      <td>tt0468569</td>\n",
       "      <td>8.466668</td>\n",
       "      <td>185000000</td>\n",
       "      <td>1001921825</td>\n",
       "      <td>The Dark Knight</td>\n",
       "      <td>Christian Bale|Michael Caine|Heath Ledger|Aaro...</td>\n",
       "      <td>Christopher Nolan</td>\n",
       "      <td>Why So Serious?</td>\n",
       "      <td>Batman raises the stakes in his war on crime. ...</td>\n",
       "      <td>152</td>\n",
       "      <td>Drama|Action|Crime|Thriller</td>\n",
       "      <td>DC Comics|Legendary Pictures|Warner Bros.|Syncopy</td>\n",
       "      <td>7/16/2008</td>\n",
       "      <td>8432</td>\n",
       "      <td>8.1</td>\n",
       "      <td>2008</td>\n",
       "      <td>816921825</td>\n",
       "    </tr>\n",
       "  </tbody>\n",
       "</table>\n",
       "</div>"
      ],
      "text/plain": [
       "       imdb_id  popularity     budget     revenue   original_title  \\\n",
       "600  tt0468569    8.466668  185000000  1001921825  The Dark Knight   \n",
       "\n",
       "                                                  cast           director  \\\n",
       "600  Christian Bale|Michael Caine|Heath Ledger|Aaro...  Christopher Nolan   \n",
       "\n",
       "             tagline                                           overview  \\\n",
       "600  Why So Serious?  Batman raises the stakes in his war on crime. ...   \n",
       "\n",
       "     runtime                       genres  \\\n",
       "600      152  Drama|Action|Crime|Thriller   \n",
       "\n",
       "                                  production_companies release_date  \\\n",
       "600  DC Comics|Legendary Pictures|Warner Bros.|Syncopy    7/16/2008   \n",
       "\n",
       "     vote_count  vote_average  release_year     profit  \n",
       "600        8432           8.1          2008  816921825  "
      ]
     },
     "execution_count": 34,
     "metadata": {},
     "output_type": "execute_result"
    }
   ],
   "source": [
    "mv_ = mv[mv.release_year == 2008]\n",
    "mv_.loc[mv_.profit == mv_.profit.max()]"
   ]
  },
  {
   "cell_type": "code",
   "execution_count": 38,
   "metadata": {},
   "outputs": [
    {
     "data": {
      "text/html": [
       "<div>\n",
       "<style scoped>\n",
       "    .dataframe tbody tr th:only-of-type {\n",
       "        vertical-align: middle;\n",
       "    }\n",
       "\n",
       "    .dataframe tbody tr th {\n",
       "        vertical-align: top;\n",
       "    }\n",
       "\n",
       "    .dataframe thead th {\n",
       "        text-align: right;\n",
       "    }\n",
       "</style>\n",
       "<table border=\"1\" class=\"dataframe\">\n",
       "  <thead>\n",
       "    <tr style=\"text-align: right;\">\n",
       "      <th></th>\n",
       "      <th>imdb_id</th>\n",
       "      <th>popularity</th>\n",
       "      <th>budget</th>\n",
       "      <th>revenue</th>\n",
       "      <th>original_title</th>\n",
       "      <th>cast</th>\n",
       "      <th>director</th>\n",
       "      <th>tagline</th>\n",
       "      <th>overview</th>\n",
       "      <th>runtime</th>\n",
       "      <th>genres</th>\n",
       "      <th>production_companies</th>\n",
       "      <th>release_date</th>\n",
       "      <th>vote_count</th>\n",
       "      <th>vote_average</th>\n",
       "      <th>release_year</th>\n",
       "      <th>profit</th>\n",
       "    </tr>\n",
       "  </thead>\n",
       "  <tbody>\n",
       "    <tr>\n",
       "      <th>1246</th>\n",
       "      <td>tt1210819</td>\n",
       "      <td>1.21451</td>\n",
       "      <td>255000000</td>\n",
       "      <td>89289910</td>\n",
       "      <td>The Lone Ranger</td>\n",
       "      <td>Johnny Depp|Armie Hammer|William Fichtner|Hele...</td>\n",
       "      <td>Gore Verbinski</td>\n",
       "      <td>Never Take Off the Mask</td>\n",
       "      <td>The Texas Rangers chase down a gang of outlaws...</td>\n",
       "      <td>149</td>\n",
       "      <td>Action|Adventure|Western</td>\n",
       "      <td>Walt Disney Pictures|Jerry Bruckheimer Films|I...</td>\n",
       "      <td>7/3/2013</td>\n",
       "      <td>1607</td>\n",
       "      <td>6.0</td>\n",
       "      <td>2013</td>\n",
       "      <td>-165710090</td>\n",
       "    </tr>\n",
       "  </tbody>\n",
       "</table>\n",
       "</div>"
      ],
      "text/plain": [
       "        imdb_id  popularity     budget   revenue   original_title  \\\n",
       "1246  tt1210819     1.21451  255000000  89289910  The Lone Ranger   \n",
       "\n",
       "                                                   cast        director  \\\n",
       "1246  Johnny Depp|Armie Hammer|William Fichtner|Hele...  Gore Verbinski   \n",
       "\n",
       "                      tagline  \\\n",
       "1246  Never Take Off the Mask   \n",
       "\n",
       "                                               overview  runtime  \\\n",
       "1246  The Texas Rangers chase down a gang of outlaws...      149   \n",
       "\n",
       "                        genres  \\\n",
       "1246  Action|Adventure|Western   \n",
       "\n",
       "                                   production_companies release_date  \\\n",
       "1246  Walt Disney Pictures|Jerry Bruckheimer Films|I...     7/3/2013   \n",
       "\n",
       "      vote_count  vote_average  release_year     profit  \n",
       "1246        1607           6.0          2013 -165710090  "
      ]
     },
     "execution_count": 38,
     "metadata": {},
     "output_type": "execute_result"
    }
   ],
   "source": [
    "mv_ = mv[(mv.release_year >= 2012)&(mv.release_year <= 2014)]\n",
    "mv_.loc[mv_.profit == mv_.profit.min()]"
   ]
  },
  {
   "cell_type": "code",
   "execution_count": 39,
   "metadata": {},
   "outputs": [
    {
     "name": "stdout",
     "output_type": "stream",
     "text": [
      "Action = 583\n",
      "Adventure = 416\n",
      "Drama = 782\n",
      "Comedy = 683\n",
      "Thriller = 597\n"
     ]
    }
   ],
   "source": [
    "qst = ['Action', 'Adventure', 'Drama', 'Comedy', 'Thriller']\n",
    "for elm in qst:\n",
    "    df = mv[mv.genres.str.contains(elm, na=False)]\n",
    "    print(elm, '=', df.genres.count())"
   ]
  },
  {
   "cell_type": "code",
   "execution_count": 46,
   "metadata": {},
   "outputs": [
    {
     "name": "stdout",
     "output_type": "stream",
     "text": [
      "Action = 444\n",
      "Adventure = 337\n",
      "Drama = 560\n",
      "Comedy = 551\n",
      "Thriller = 446\n"
     ]
    }
   ],
   "source": [
    "qst = ['Action', 'Adventure', 'Drama', 'Comedy', 'Thriller']\n",
    "mv_p = mv[(mv.profit > 0)]\n",
    "for elm in qst:\n",
    "    print(elm, '=', mv_p[mv_p.genres.str.contains(elm, na=False)].genres.count())"
   ]
  },
  {
   "cell_type": "code",
   "execution_count": 42,
   "metadata": {},
   "outputs": [
    {
     "data": {
      "text/plain": [
       "Steven Soderbergh    13\n",
       "Ridley Scott         12\n",
       "Clint Eastwood       12\n",
       "Shawn Levy           10\n",
       "Steven Spielberg     10\n",
       "                     ..\n",
       "Atom Egoyan           1\n",
       "Joby Harold           1\n",
       "Ronald F. Maxwell     1\n",
       "Terrence Malick       1\n",
       "Asif Kapadia          1\n",
       "Name: director, Length: 958, dtype: int64"
      ]
     },
     "metadata": {},
     "output_type": "display_data"
    }
   ],
   "source": [
    "s = mv['director'].value_counts()\n",
    "display(s)"
   ]
  },
  {
   "cell_type": "code",
   "execution_count": 43,
   "metadata": {},
   "outputs": [
    {
     "data": {
      "text/plain": [
       "Ridley Scott               12\n",
       "Steven Soderbergh          10\n",
       "Steven Spielberg           10\n",
       "Clint Eastwood             10\n",
       "Shawn Levy                  9\n",
       "                           ..\n",
       "Oliver Hirschbiegel         1\n",
       "David Soren                 1\n",
       "Michael J. Bassett          1\n",
       "Stiles White                1\n",
       "Chris Renaud|Kyle Balda     1\n",
       "Name: director, Length: 774, dtype: int64"
      ]
     },
     "metadata": {},
     "output_type": "display_data"
    }
   ],
   "source": [
    "s = mv_p['director'].value_counts()\n",
    "display(s)"
   ]
  },
  {
   "cell_type": "code",
   "execution_count": 48,
   "metadata": {},
   "outputs": [
    {
     "name": "stdout",
     "output_type": "stream",
     "text": [
      "Steven Spielberg = 2449700791\n",
      "James Cameron = 2548546718\n",
      "Christopher Nolan = 3162548502\n",
      "David Yates = 3379295625\n",
      "Peter Jackson = 5202593685\n"
     ]
    }
   ],
   "source": [
    "qst = ['Steven Spielberg', 'James Cameron', 'Christopher Nolan', 'David Yates', 'Peter Jackson']\n",
    "for elm in qst:\n",
    "    print(elm, '=', mv[mv.director.str.contains(elm, na=False)].profit.sum())"
   ]
  },
  {
   "cell_type": "code",
   "execution_count": 49,
   "metadata": {},
   "outputs": [
    {
     "name": "stdout",
     "output_type": "stream",
     "text": [
      "Emma Watson = 6666245597\n",
      "Johnny Depp = 4776417000\n",
      "Michelle Rodriguez = 4608031235\n",
      "Orlando Bloom = 5148578162\n",
      "Rupert Grint = 6408638290\n"
     ]
    }
   ],
   "source": [
    "qst = ['Emma Watson', 'Johnny Depp', 'Michelle Rodriguez', 'Orlando Bloom', 'Rupert Grint']\n",
    "for elm in qst:\n",
    "    print(elm, '=', mv[mv.cast.str.contains(elm, na=False)].profit.sum())"
   ]
  },
  {
   "cell_type": "code",
   "execution_count": 58,
   "metadata": {},
   "outputs": [
    {
     "name": "stdout",
     "output_type": "stream",
     "text": [
      "Nicolas Cage = -32893443\n",
      "Danny Huston = -32893443\n",
      "Kirsten Dunst = -68109207\n",
      "Jim Sturgess = -23410657\n",
      "Sami Gayle = -32893443\n"
     ]
    }
   ],
   "source": [
    "qst = ['Nicolas Cage', 'Danny Huston', 'Kirsten Dunst', 'Jim Sturgess', 'Sami Gayle']\n",
    "mv_ = mv[(mv.release_year == 2012)]\n",
    "for elm in qst:\n",
    "    print(elm, '=', mv_[mv_.cast.str.contains(elm, na=False)].profit.sum())"
   ]
  },
  {
   "cell_type": "code",
   "execution_count": 61,
   "metadata": {},
   "outputs": [
    {
     "name": "stdout",
     "output_type": "stream",
     "text": [
      "Tom Cruise = 9\n",
      "Mark Wahlberg = 7\n",
      "Matt Damon = 14\n",
      "Angelina Jolie = 9\n",
      "Adam Sandler = 16\n"
     ]
    }
   ],
   "source": [
    "qst = ['Tom Cruise', 'Mark Wahlberg', 'Matt Damon', 'Angelina Jolie', 'Adam Sandler']\n",
    "for elm in qst:\n",
    "    df = mv[mv.cast.str.contains(elm, na=False)]\n",
    "    print(elm, '=', df[df['budget'] > df.budget.mean()].budget.count())"
   ]
  },
  {
   "cell_type": "code",
   "execution_count": 64,
   "metadata": {},
   "outputs": [
    {
     "name": "stdout",
     "output_type": "stream",
     "text": [
      "Action = 17\n",
      "Adventure = 7\n",
      "Drama = 12\n",
      "Crime = 10\n",
      "Thriller = 15\n"
     ]
    }
   ],
   "source": [
    "nc = mv[mv.cast.str.contains(\"Nicolas Cage\", na=False)]\n",
    "qst = ['Action', 'Adventure', 'Drama', 'Crime', 'Thriller']\n",
    "for elm in qst:\n",
    "    print(elm, '=', nc[nc.genres.str.contains(elm, na=False)].genres.count())"
   ]
  },
  {
   "cell_type": "code",
   "execution_count": 66,
   "metadata": {},
   "outputs": [
    {
     "name": "stdout",
     "output_type": "stream",
     "text": [
      "Universal = 185\n",
      "Warner Bros = 183\n",
      "Columbia Pictures = 163\n",
      "Paramount Pictures = 122\n",
      "Twentieth Century Fox Film Corporation = 109\n"
     ]
    }
   ],
   "source": [
    "qst = ['Universal', 'Warner Bros', 'Columbia Pictures', 'Paramount Pictures', 'Twentieth Century Fox Film Corporation']\n",
    "for elm in qst:\n",
    "    print(elm, '=', mv[mv.production_companies.str.contains(elm, na=False)].production_companies.count())"
   ]
  },
  {
   "cell_type": "code",
   "execution_count": 68,
   "metadata": {},
   "outputs": [
    {
     "name": "stdout",
     "output_type": "stream",
     "text": [
      "Universal Pictures = 11\n",
      "Warner Bros = 12\n",
      "Columbia Pictures = 7\n",
      "Paramount Pictures = 7\n",
      "Twentieth Century Fox Film Corporation = 8\n"
     ]
    }
   ],
   "source": [
    "qst = ['Universal Pictures', 'Warner Bros', 'Columbia Pictures', 'Paramount Pictures', 'Twentieth Century Fox Film Corporation']\n",
    "cut = mv[mv['release_year'] == 2015]\n",
    "for elm in qst:\n",
    "    print(elm, '=', len(cut[cut['production_companies'].str.contains(elm)]))"
   ]
  },
  {
   "cell_type": "code",
   "execution_count": 69,
   "metadata": {},
   "outputs": [
    {
     "name": "stdout",
     "output_type": "stream",
     "text": [
      "Universal = 9130349034\n",
      "Warner Bros = 4370928916\n",
      "Columbia Pictures = 7161805266\n",
      "Paramount Pictures = 3055625722\n",
      "Walt Disney = 7975933215\n"
     ]
    }
   ],
   "source": [
    "cmd = mv[mv.genres.str.contains(\"Comedy\", na=False)]\n",
    "qst = ['Universal', 'Warner Bros', 'Columbia Pictures', 'Paramount Pictures', 'Walt Disney']\n",
    "for elm in qst:\n",
    "    print(elm, '=', cmd[cmd.production_companies.str.contains(elm, na=False)].profit.sum())"
   ]
  },
  {
   "cell_type": "code",
   "execution_count": 70,
   "metadata": {},
   "outputs": [
    {
     "name": "stdout",
     "output_type": "stream",
     "text": [
      "Universal = 1981011579\n",
      "Warner Bros = 1258020056\n",
      "Columbia Pictures = 2501406608\n",
      "Paramount Pictures = 410726715\n",
      "Lucasfilm = -7634623\n"
     ]
    }
   ],
   "source": [
    "cmd = mv[mv['release_year'] == 2012]\n",
    "qst = ['Universal', 'Warner Bros', 'Columbia Pictures', 'Paramount Pictures', 'Lucasfilm']\n",
    "for elm in qst:\n",
    "    print(elm, '=', cmd[cmd.production_companies.str.contains(elm, na=False)].profit.sum())"
   ]
  },
  {
   "cell_type": "code",
   "execution_count": 71,
   "metadata": {},
   "outputs": [
    {
     "name": "stdout",
     "output_type": "stream",
     "text": [
      "K-19: The Widowmaker = -64831034\n",
      "Next = -51788987\n",
      "Twisted = -24805000\n",
      "The Love Guru = -20180936\n",
      "The Fighter = -15809131\n"
     ]
    }
   ],
   "source": [
    "cmd = mv[mv.production_companies.str.contains(\"Paramount Pictures\", na=False)]\n",
    "qst = ['K-19: The Widowmaker', 'Next', 'Twisted', 'The Love Guru', 'The Fighter']\n",
    "for elm in qst:\n",
    "    print(elm, '=', cmd[cmd.original_title.str.contains(elm, na=False)].profit.sum())"
   ]
  },
  {
   "cell_type": "code",
   "execution_count": 76,
   "metadata": {},
   "outputs": [
    {
     "name": "stdout",
     "output_type": "stream",
     "text": [
      "2012 = 16077001687\n",
      "2014 = 16397812953\n",
      "2008 = 11663881990\n",
      "2002 = 9002361487\n",
      "2015 = 18668572378\n"
     ]
    }
   ],
   "source": [
    "print('2012 =',mv[mv['release_year'] == 2012].profit.sum())\n",
    "print('2014 =',mv[mv['release_year'] == 2014].profit.sum())\n",
    "print('2008 =',mv[mv['release_year'] == 2008].profit.sum())\n",
    "print('2002 =',mv[mv['release_year'] == 2002].profit.sum())\n",
    "print('2015 =',mv[mv['release_year'] == 2015].profit.sum())"
   ]
  },
  {
   "cell_type": "code",
   "execution_count": 77,
   "metadata": {},
   "outputs": [
    {
     "name": "stdout",
     "output_type": "stream",
     "text": [
      "2012 = 1258020056\n",
      "2014 = 2295464519\n",
      "2008 = 2134595031\n",
      "2010 = 1974712985\n",
      "2015 = 870368348\n"
     ]
    }
   ],
   "source": [
    "mv_p = mv[mv.production_companies.str.contains(\"Warner Bros\", na=False)]\n",
    "print('2012 =',mv_p[mv_p['release_year'] == 2012].profit.sum())\n",
    "print('2014 =',mv_p[mv_p['release_year'] == 2014].profit.sum())\n",
    "print('2008 =',mv_p[mv_p['release_year'] == 2008].profit.sum())\n",
    "print('2010 =',mv_p[mv_p['release_year'] == 2010].profit.sum())\n",
    "print('2015 =',mv_p[mv_p['release_year'] == 2015].profit.sum())"
   ]
  },
  {
   "cell_type": "code",
   "execution_count": 83,
   "metadata": {},
   "outputs": [
    {
     "name": "stdout",
     "output_type": "stream",
     "text": [
      "Январь = 110\n",
      "Июнь = 147\n",
      "Декабрь = 191\n",
      "Сентябрь = 227\n",
      "Май = 140\n"
     ]
    }
   ],
   "source": [
    "import datetime\n",
    "\n",
    "mv['release_date'] = mv['release_date'].astype('datetime64[ns]')\n",
    "mv_d = mv\n",
    "mv_d['release_date'] = mv['release_date'].astype('str')\n",
    "print('Январь =',len(mv_d[mv_d['release_date'].str.contains(\"-01-\")]))\n",
    "print('Июнь =',len(mv_d[mv_d['release_date'].str.contains(\"-06-\")]))\n",
    "print('Декабрь =',len(mv_d[mv_d['release_date'].str.contains(\"-12-\")]))\n",
    "print('Сентябрь =',len(mv_d[mv_d['release_date'].str.contains(\"-09-\")]))\n",
    "print('Май =',len(mv_d[mv_d['release_date'].str.contains(\"-05-\")]))"
   ]
  },
  {
   "cell_type": "code",
   "execution_count": 84,
   "metadata": {},
   "outputs": [
    {
     "name": "stdout",
     "output_type": "stream",
     "text": [
      "Июнь = 147\n",
      "июль = 142\n",
      "август = 161\n"
     ]
    }
   ],
   "source": [
    "print('Июнь =',len(mv_d[mv_d['release_date'].str.contains(\"-06-\")]))\n",
    "print('Июль =',len(mv_d[mv_d['release_date'].str.contains(\"-07-\")]))\n",
    "print('Август =',len(mv_d[mv_d['release_date'].str.contains(\"-08-\")]))"
   ]
  },
  {
   "cell_type": "code",
   "execution_count": 85,
   "metadata": {},
   "outputs": [
    {
     "data": {
      "text/plain": [
       "450"
      ]
     },
     "execution_count": 85,
     "metadata": {},
     "output_type": "execute_result"
    }
   ],
   "source": [
    "len(mv_d[mv_d['release_date'].str.contains(\"-06-\")]) + len(mv_d[mv_d['release_date'].str.contains(\"-07-\")]) + len(mv_d[mv_d['release_date'].str.contains(\"-08-\")])"
   ]
  },
  {
   "cell_type": "code",
   "execution_count": 86,
   "metadata": {},
   "outputs": [
    {
     "name": "stdout",
     "output_type": "stream",
     "text": [
      "Steven Spielberg = 3\n",
      "Clint Eastwood = 6\n",
      "Christopher Nolan = 0\n",
      "Ridley Scott = 3\n",
      "Peter Jackson = 7\n"
     ]
    }
   ],
   "source": [
    "dec = mv_d[mv_d.release_date.str.contains(\"-12-\", na=False)]\n",
    "jan = mv_d[mv_d.release_date.str.contains(\"-01-\", na=False)]\n",
    "feb = mv_d[mv_d.release_date.str.contains(\"-02-\", na=False)]\n",
    "sum = pd.concat([dec,jan,feb])\n",
    "qst = ['Steven Spielberg', 'Clint Eastwood', 'Christopher Nolan', 'Ridley Scott', 'Peter Jackson']\n",
    "for elm in qst:\n",
    "    print(elm, '=', len(sum[sum['director'].str.contains(elm)]))"
   ]
  },
  {
   "cell_type": "code",
   "execution_count": 91,
   "metadata": {},
   "outputs": [
    {
     "data": {
      "text/html": [
       "<div>\n",
       "<style scoped>\n",
       "    .dataframe tbody tr th:only-of-type {\n",
       "        vertical-align: middle;\n",
       "    }\n",
       "\n",
       "    .dataframe tbody tr th {\n",
       "        vertical-align: top;\n",
       "    }\n",
       "\n",
       "    .dataframe thead th {\n",
       "        text-align: right;\n",
       "    }\n",
       "</style>\n",
       "<table border=\"1\" class=\"dataframe\">\n",
       "  <thead>\n",
       "    <tr style=\"text-align: right;\">\n",
       "      <th></th>\n",
       "      <th>imdb_id</th>\n",
       "      <th>popularity</th>\n",
       "      <th>budget</th>\n",
       "      <th>revenue</th>\n",
       "      <th>original_title</th>\n",
       "      <th>cast</th>\n",
       "      <th>director</th>\n",
       "      <th>tagline</th>\n",
       "      <th>overview</th>\n",
       "      <th>runtime</th>\n",
       "      <th>genres</th>\n",
       "      <th>production_companies</th>\n",
       "      <th>release_date</th>\n",
       "      <th>vote_count</th>\n",
       "      <th>vote_average</th>\n",
       "      <th>release_year</th>\n",
       "      <th>profit</th>\n",
       "    </tr>\n",
       "  </thead>\n",
       "  <tbody>\n",
       "    <tr>\n",
       "      <th>0</th>\n",
       "      <td>tt0369610</td>\n",
       "      <td>32.985763</td>\n",
       "      <td>150000000</td>\n",
       "      <td>1513528810</td>\n",
       "      <td>Jurassic World</td>\n",
       "      <td>Chris Pratt|Bryce Dallas Howard|Irrfan Khan|Vi...</td>\n",
       "      <td>Colin Trevorrow</td>\n",
       "      <td>The park is open.</td>\n",
       "      <td>Twenty-two years after the events of Jurassic ...</td>\n",
       "      <td>124</td>\n",
       "      <td>Action|Adventure|Science Fiction|Thriller</td>\n",
       "      <td>Universal Studios|Amblin Entertainment|Legenda...</td>\n",
       "      <td>2015-06-09</td>\n",
       "      <td>5562</td>\n",
       "      <td>6.5</td>\n",
       "      <td>2015</td>\n",
       "      <td>1363528810</td>\n",
       "    </tr>\n",
       "    <tr>\n",
       "      <th>1</th>\n",
       "      <td>tt1392190</td>\n",
       "      <td>28.419936</td>\n",
       "      <td>150000000</td>\n",
       "      <td>378436354</td>\n",
       "      <td>Mad Max: Fury Road</td>\n",
       "      <td>Tom Hardy|Charlize Theron|Hugh Keays-Byrne|Nic...</td>\n",
       "      <td>George Miller</td>\n",
       "      <td>What a Lovely Day.</td>\n",
       "      <td>An apocalyptic story set in the furthest reach...</td>\n",
       "      <td>120</td>\n",
       "      <td>Action|Adventure|Science Fiction|Thriller</td>\n",
       "      <td>Village Roadshow Pictures|Kennedy Miller Produ...</td>\n",
       "      <td>2015-05-13</td>\n",
       "      <td>6185</td>\n",
       "      <td>7.1</td>\n",
       "      <td>2015</td>\n",
       "      <td>228436354</td>\n",
       "    </tr>\n",
       "    <tr>\n",
       "      <th>2</th>\n",
       "      <td>tt2908446</td>\n",
       "      <td>13.112507</td>\n",
       "      <td>110000000</td>\n",
       "      <td>295238201</td>\n",
       "      <td>Insurgent</td>\n",
       "      <td>Shailene Woodley|Theo James|Kate Winslet|Ansel...</td>\n",
       "      <td>Robert Schwentke</td>\n",
       "      <td>One Choice Can Destroy You</td>\n",
       "      <td>Beatrice Prior must confront her inner demons ...</td>\n",
       "      <td>119</td>\n",
       "      <td>Adventure|Science Fiction|Thriller</td>\n",
       "      <td>Summit Entertainment|Mandeville Films|Red Wago...</td>\n",
       "      <td>2015-03-18</td>\n",
       "      <td>2480</td>\n",
       "      <td>6.3</td>\n",
       "      <td>2015</td>\n",
       "      <td>185238201</td>\n",
       "    </tr>\n",
       "    <tr>\n",
       "      <th>3</th>\n",
       "      <td>tt2488496</td>\n",
       "      <td>11.173104</td>\n",
       "      <td>200000000</td>\n",
       "      <td>2068178225</td>\n",
       "      <td>Star Wars: The Force Awakens</td>\n",
       "      <td>Harrison Ford|Mark Hamill|Carrie Fisher|Adam D...</td>\n",
       "      <td>J.J. Abrams</td>\n",
       "      <td>Every generation has a story.</td>\n",
       "      <td>Thirty years after defeating the Galactic Empi...</td>\n",
       "      <td>136</td>\n",
       "      <td>Action|Adventure|Science Fiction|Fantasy</td>\n",
       "      <td>Lucasfilm|Truenorth Productions|Bad Robot</td>\n",
       "      <td>2015-12-15</td>\n",
       "      <td>5292</td>\n",
       "      <td>7.5</td>\n",
       "      <td>2015</td>\n",
       "      <td>1868178225</td>\n",
       "    </tr>\n",
       "    <tr>\n",
       "      <th>4</th>\n",
       "      <td>tt2820852</td>\n",
       "      <td>9.335014</td>\n",
       "      <td>190000000</td>\n",
       "      <td>1506249360</td>\n",
       "      <td>Furious 7</td>\n",
       "      <td>Vin Diesel|Paul Walker|Jason Statham|Michelle ...</td>\n",
       "      <td>James Wan</td>\n",
       "      <td>Vengeance Hits Home</td>\n",
       "      <td>Deckard Shaw seeks revenge against Dominic Tor...</td>\n",
       "      <td>137</td>\n",
       "      <td>Action|Crime|Thriller</td>\n",
       "      <td>Universal Pictures|Original Film|Media Rights ...</td>\n",
       "      <td>2015-04-01</td>\n",
       "      <td>2947</td>\n",
       "      <td>7.3</td>\n",
       "      <td>2015</td>\n",
       "      <td>1316249360</td>\n",
       "    </tr>\n",
       "    <tr>\n",
       "      <th>...</th>\n",
       "      <td>...</td>\n",
       "      <td>...</td>\n",
       "      <td>...</td>\n",
       "      <td>...</td>\n",
       "      <td>...</td>\n",
       "      <td>...</td>\n",
       "      <td>...</td>\n",
       "      <td>...</td>\n",
       "      <td>...</td>\n",
       "      <td>...</td>\n",
       "      <td>...</td>\n",
       "      <td>...</td>\n",
       "      <td>...</td>\n",
       "      <td>...</td>\n",
       "      <td>...</td>\n",
       "      <td>...</td>\n",
       "      <td>...</td>\n",
       "    </tr>\n",
       "    <tr>\n",
       "      <th>113</th>\n",
       "      <td>tt3164256</td>\n",
       "      <td>0.689579</td>\n",
       "      <td>15000000</td>\n",
       "      <td>3020664</td>\n",
       "      <td>Rock the Kasbah</td>\n",
       "      <td>Bill Murray|Zooey Deschanel|Bruce Willis|Kate ...</td>\n",
       "      <td>Barry Levinson</td>\n",
       "      <td>Opportunity rocks where you least expect it.</td>\n",
       "      <td>A washed-up music producer finds one last shot...</td>\n",
       "      <td>100</td>\n",
       "      <td>Comedy|Music|War</td>\n",
       "      <td>Shangri-La Entertainment|QED International|Dun...</td>\n",
       "      <td>2015-10-22</td>\n",
       "      <td>56</td>\n",
       "      <td>5.1</td>\n",
       "      <td>2015</td>\n",
       "      <td>-11979336</td>\n",
       "    </tr>\n",
       "    <tr>\n",
       "      <th>114</th>\n",
       "      <td>tt1178665</td>\n",
       "      <td>0.602165</td>\n",
       "      <td>8000000</td>\n",
       "      <td>35991087</td>\n",
       "      <td>A Walk in the Woods</td>\n",
       "      <td>Robert Redford|Nick Nolte|Emma Thompson|Nick O...</td>\n",
       "      <td>Ken Kwapis</td>\n",
       "      <td>When you push yourself to the edge, the real f...</td>\n",
       "      <td>After spending two decades in England, Bill Br...</td>\n",
       "      <td>104</td>\n",
       "      <td>Drama|Adventure|Comedy</td>\n",
       "      <td>Wildwood Enterprises|Route One Films</td>\n",
       "      <td>2015-09-02</td>\n",
       "      <td>171</td>\n",
       "      <td>5.4</td>\n",
       "      <td>2015</td>\n",
       "      <td>27991087</td>\n",
       "    </tr>\n",
       "    <tr>\n",
       "      <th>115</th>\n",
       "      <td>tt2358925</td>\n",
       "      <td>0.577814</td>\n",
       "      <td>35000000</td>\n",
       "      <td>14431253</td>\n",
       "      <td>Unfinished Business</td>\n",
       "      <td>Vince Vaughn|Dave Franco|James Marsden|June Di...</td>\n",
       "      <td>Ken Scott</td>\n",
       "      <td>Best business trip ever.</td>\n",
       "      <td>A hard-working small business owner and his tw...</td>\n",
       "      <td>90</td>\n",
       "      <td>Comedy</td>\n",
       "      <td>Studio Babelsberg|Regency Enterprises|Escape A...</td>\n",
       "      <td>2015-03-05</td>\n",
       "      <td>241</td>\n",
       "      <td>4.9</td>\n",
       "      <td>2015</td>\n",
       "      <td>-20568747</td>\n",
       "    </tr>\n",
       "    <tr>\n",
       "      <th>116</th>\n",
       "      <td>tt2883434</td>\n",
       "      <td>0.462090</td>\n",
       "      <td>9000000</td>\n",
       "      <td>21571189</td>\n",
       "      <td>Black or White</td>\n",
       "      <td>Kevin Costner|Jennifer Ehle|Gillian Jacobs|Oct...</td>\n",
       "      <td>Mike Binder</td>\n",
       "      <td>There's more to family than what you see.</td>\n",
       "      <td>A grieving widower is drawn into a custody bat...</td>\n",
       "      <td>121</td>\n",
       "      <td>Drama</td>\n",
       "      <td>Treehouse Pictures</td>\n",
       "      <td>2015-01-30</td>\n",
       "      <td>72</td>\n",
       "      <td>6.7</td>\n",
       "      <td>2015</td>\n",
       "      <td>12571189</td>\n",
       "    </tr>\n",
       "    <tr>\n",
       "      <th>117</th>\n",
       "      <td>tt3614530</td>\n",
       "      <td>0.435582</td>\n",
       "      <td>5000000</td>\n",
       "      <td>2333684</td>\n",
       "      <td>Jem and the Holograms</td>\n",
       "      <td>Aubrey Peeples|Stefanie Scott|Aurora Perrineau...</td>\n",
       "      <td>Jon M. Chu</td>\n",
       "      <td>Every Generation Needs a Voice.</td>\n",
       "      <td>In a hyper-linked social media age, an orphane...</td>\n",
       "      <td>119</td>\n",
       "      <td>Drama|Music|Adventure|Fantasy</td>\n",
       "      <td>Universal Pictures|Blumhouse Productions|Hasbr...</td>\n",
       "      <td>2015-10-22</td>\n",
       "      <td>69</td>\n",
       "      <td>5.7</td>\n",
       "      <td>2015</td>\n",
       "      <td>-2666316</td>\n",
       "    </tr>\n",
       "  </tbody>\n",
       "</table>\n",
       "<p>118 rows × 17 columns</p>\n",
       "</div>"
      ],
      "text/plain": [
       "       imdb_id  popularity     budget     revenue  \\\n",
       "0    tt0369610   32.985763  150000000  1513528810   \n",
       "1    tt1392190   28.419936  150000000   378436354   \n",
       "2    tt2908446   13.112507  110000000   295238201   \n",
       "3    tt2488496   11.173104  200000000  2068178225   \n",
       "4    tt2820852    9.335014  190000000  1506249360   \n",
       "..         ...         ...        ...         ...   \n",
       "113  tt3164256    0.689579   15000000     3020664   \n",
       "114  tt1178665    0.602165    8000000    35991087   \n",
       "115  tt2358925    0.577814   35000000    14431253   \n",
       "116  tt2883434    0.462090    9000000    21571189   \n",
       "117  tt3614530    0.435582    5000000     2333684   \n",
       "\n",
       "                   original_title  \\\n",
       "0                  Jurassic World   \n",
       "1              Mad Max: Fury Road   \n",
       "2                       Insurgent   \n",
       "3    Star Wars: The Force Awakens   \n",
       "4                       Furious 7   \n",
       "..                            ...   \n",
       "113               Rock the Kasbah   \n",
       "114           A Walk in the Woods   \n",
       "115           Unfinished Business   \n",
       "116                Black or White   \n",
       "117         Jem and the Holograms   \n",
       "\n",
       "                                                  cast          director  \\\n",
       "0    Chris Pratt|Bryce Dallas Howard|Irrfan Khan|Vi...   Colin Trevorrow   \n",
       "1    Tom Hardy|Charlize Theron|Hugh Keays-Byrne|Nic...     George Miller   \n",
       "2    Shailene Woodley|Theo James|Kate Winslet|Ansel...  Robert Schwentke   \n",
       "3    Harrison Ford|Mark Hamill|Carrie Fisher|Adam D...       J.J. Abrams   \n",
       "4    Vin Diesel|Paul Walker|Jason Statham|Michelle ...         James Wan   \n",
       "..                                                 ...               ...   \n",
       "113  Bill Murray|Zooey Deschanel|Bruce Willis|Kate ...    Barry Levinson   \n",
       "114  Robert Redford|Nick Nolte|Emma Thompson|Nick O...        Ken Kwapis   \n",
       "115  Vince Vaughn|Dave Franco|James Marsden|June Di...         Ken Scott   \n",
       "116  Kevin Costner|Jennifer Ehle|Gillian Jacobs|Oct...       Mike Binder   \n",
       "117  Aubrey Peeples|Stefanie Scott|Aurora Perrineau...        Jon M. Chu   \n",
       "\n",
       "                                               tagline  \\\n",
       "0                                    The park is open.   \n",
       "1                                   What a Lovely Day.   \n",
       "2                           One Choice Can Destroy You   \n",
       "3                        Every generation has a story.   \n",
       "4                                  Vengeance Hits Home   \n",
       "..                                                 ...   \n",
       "113       Opportunity rocks where you least expect it.   \n",
       "114  When you push yourself to the edge, the real f...   \n",
       "115                           Best business trip ever.   \n",
       "116          There's more to family than what you see.   \n",
       "117                    Every Generation Needs a Voice.   \n",
       "\n",
       "                                              overview  runtime  \\\n",
       "0    Twenty-two years after the events of Jurassic ...      124   \n",
       "1    An apocalyptic story set in the furthest reach...      120   \n",
       "2    Beatrice Prior must confront her inner demons ...      119   \n",
       "3    Thirty years after defeating the Galactic Empi...      136   \n",
       "4    Deckard Shaw seeks revenge against Dominic Tor...      137   \n",
       "..                                                 ...      ...   \n",
       "113  A washed-up music producer finds one last shot...      100   \n",
       "114  After spending two decades in England, Bill Br...      104   \n",
       "115  A hard-working small business owner and his tw...       90   \n",
       "116  A grieving widower is drawn into a custody bat...      121   \n",
       "117  In a hyper-linked social media age, an orphane...      119   \n",
       "\n",
       "                                        genres  \\\n",
       "0    Action|Adventure|Science Fiction|Thriller   \n",
       "1    Action|Adventure|Science Fiction|Thriller   \n",
       "2           Adventure|Science Fiction|Thriller   \n",
       "3     Action|Adventure|Science Fiction|Fantasy   \n",
       "4                        Action|Crime|Thriller   \n",
       "..                                         ...   \n",
       "113                           Comedy|Music|War   \n",
       "114                     Drama|Adventure|Comedy   \n",
       "115                                     Comedy   \n",
       "116                                      Drama   \n",
       "117              Drama|Music|Adventure|Fantasy   \n",
       "\n",
       "                                  production_companies release_date  \\\n",
       "0    Universal Studios|Amblin Entertainment|Legenda...   2015-06-09   \n",
       "1    Village Roadshow Pictures|Kennedy Miller Produ...   2015-05-13   \n",
       "2    Summit Entertainment|Mandeville Films|Red Wago...   2015-03-18   \n",
       "3            Lucasfilm|Truenorth Productions|Bad Robot   2015-12-15   \n",
       "4    Universal Pictures|Original Film|Media Rights ...   2015-04-01   \n",
       "..                                                 ...          ...   \n",
       "113  Shangri-La Entertainment|QED International|Dun...   2015-10-22   \n",
       "114               Wildwood Enterprises|Route One Films   2015-09-02   \n",
       "115  Studio Babelsberg|Regency Enterprises|Escape A...   2015-03-05   \n",
       "116                                 Treehouse Pictures   2015-01-30   \n",
       "117  Universal Pictures|Blumhouse Productions|Hasbr...   2015-10-22   \n",
       "\n",
       "     vote_count  vote_average  release_year      profit  \n",
       "0          5562           6.5          2015  1363528810  \n",
       "1          6185           7.1          2015   228436354  \n",
       "2          2480           6.3          2015   185238201  \n",
       "3          5292           7.5          2015  1868178225  \n",
       "4          2947           7.3          2015  1316249360  \n",
       "..          ...           ...           ...         ...  \n",
       "113          56           5.1          2015   -11979336  \n",
       "114         171           5.4          2015    27991087  \n",
       "115         241           4.9          2015   -20568747  \n",
       "116          72           6.7          2015    12571189  \n",
       "117          69           5.7          2015    -2666316  \n",
       "\n",
       "[118 rows x 17 columns]"
      ]
     },
     "execution_count": 91,
     "metadata": {},
     "output_type": "execute_result"
    }
   ],
   "source": [
    "mnt = ['-01-','-02-','-03-','-04-','-05-','-06-','-07-','-08-','-09-','-10-','-11-','-12-']\n",
    "tbl = []\n",
    "for y in range(2000,2016):\n",
    "    res = mv_d[mv_d['release_year'] == y]\n",
    "res"
   ]
  },
  {
   "cell_type": "code",
   "execution_count": 100,
   "metadata": {},
   "outputs": [
    {
     "name": "stdout",
     "output_type": "stream",
     "text": [
      "2000 / -01- = -26344591\n",
      "2000 / -02- = 310137593\n",
      "2000 / -03- = 490709929\n",
      "2000 / -04- = 124362846\n",
      "2000 / -05- = 1382722190\n",
      "2000 / -06- = 517315528\n",
      "2000 / -07- = 563809888\n",
      "2000 / -08- = 264018332\n",
      "2000 / -09- = 175306761\n",
      "2000 / -10- = 399938512\n",
      "2000 / -11- = 487934818\n",
      "2000 / -12- = 1411487999\n",
      "2000 = 1411487999\n",
      "2001 / -01- = 127876758\n",
      "2001 / -02- = 178360689\n",
      "2001 / -03- = 396218262\n",
      "2001 / -04- = 659725033\n",
      "2001 / -05- = 767934975\n",
      "2001 / -06- = 780612105\n",
      "2001 / -07- = 873718941\n",
      "2001 / -08- = 726979609\n",
      "2001 / -09- = 21874909\n",
      "2001 / -10- = 146204533\n",
      "2001 / -11- = 1567240927\n",
      "2001 / -12- = 1703868124\n",
      "2001 = 1703868124\n",
      "2002 / -01- = 13657034\n",
      "2002 / -02- = 557847442\n",
      "2002 / -03- = 832386092\n",
      "2002 / -04- = 343737203\n",
      "2002 / -05- = 1421928692\n",
      "2002 / -06- = 747704475\n",
      "2002 / -07- = 629306797\n",
      "2002 / -08- = 579318434\n",
      "2002 / -09- = 417267245\n",
      "2002 / -10- = 420527680\n",
      "2002 / -11- = 1190606216\n",
      "2002 / -12- = 1848074177\n",
      "2002 = 1848074177\n",
      "2003 / -01- = 145423503\n",
      "2003 / -02- = 422979087\n",
      "2003 / -03- = 160261385\n",
      "2003 / -04- = 479653942\n",
      "2003 / -05- = 2000292657\n",
      "2003 / -06- = 406445507\n",
      "2003 / -07- = 1356384641\n",
      "2003 / -08- = 444992536\n",
      "2003 / -09- = 503313816\n",
      "2003 / -10- = 837090991\n",
      "2003 / -11- = 609390731\n",
      "2003 / -12- = 1862594516\n",
      "2003 = 1862594516\n",
      "2004 / -01- = 223449403\n",
      "2004 / -02- = 727540831\n",
      "2004 / -03- = 307233119\n",
      "2004 / -04- = 275005057\n",
      "2004 / -05- = 2412578839\n",
      "2004 / -06- = 1294266591\n",
      "2004 / -07- = 834850950\n",
      "2004 / -08- = 332763539\n",
      "2004 / -09- = 475369751\n",
      "2004 / -10- = 593314410\n",
      "2004 / -11- = 1050846495\n",
      "2004 / -12- = 1106961735\n",
      "2004 = 1106961735\n",
      "2005 / -01- = 419099490\n",
      "2005 / -02- = 506931359\n",
      "2005 / -03- = 440128754\n",
      "2005 / -04- = 178673498\n",
      "2005 / -05- = 1575566228\n",
      "2005 / -06- = 1193230558\n",
      "2005 / -07- = 870215460\n",
      "2005 / -08- = 266644459\n",
      "2005 / -09- = 995622427\n",
      "2005 / -10- = 154493344\n",
      "2005 / -11- = 1027204825\n",
      "2005 / -12- = 1354115156\n",
      "2005 = 1354115156\n",
      "2006 / -01- = 138996816\n",
      "2006 / -02- = 317624889\n",
      "2006 / -03- = 799504296\n",
      "2006 / -04- = 361121653\n",
      "2006 / -05- = 985092012\n",
      "2006 / -06- = 2098059770\n",
      "2006 / -07- = 242337901\n",
      "2006 / -08- = 429249082\n",
      "2006 / -09- = 451456811\n",
      "2006 / -10- = 826087838\n",
      "2006 / -11- = 1106305898\n",
      "2006 / -12- = 935240354\n",
      "2006 = 935240354\n",
      "2007 / -01- = 91188025\n",
      "2007 / -02- = 500661304\n",
      "2007 / -03- = 714586308\n",
      "2007 / -04- = 143245753\n",
      "2007 / -05- = 2042169546\n",
      "2007 / -06- = 2764341802\n",
      "2007 / -07- = 747619985\n",
      "2007 / -08- = 881421482\n",
      "2007 / -09- = 435838557\n",
      "2007 / -10- = 516228592\n",
      "2007 / -11- = 896805244\n",
      "2007 / -12- = 1831805203\n",
      "2007 = 1831805203\n",
      "2008 / -01- = 440344541\n",
      "2008 / -02- = 987454669\n",
      "2008 / -03- = 251671904\n",
      "2008 / -04- = 720571689\n",
      "2008 / -05- = 1744305931\n",
      "2008 / -06- = 1943384763\n",
      "2008 / -07- = 1791301749\n",
      "2008 / -08- = 325382603\n",
      "2008 / -09- = 339476350\n",
      "2008 / -10- = 1145762453\n",
      "2008 / -11- = 847289768\n",
      "2008 / -12- = 1126935570\n",
      "2008 = 1126935570\n",
      "2009 / -01- = 996529660\n",
      "2009 / -02- = 326413800\n",
      "2009 / -03- = 1276096794\n",
      "2009 / -04- = 651749767\n",
      "2009 / -05- = 1435747314\n",
      "2009 / -06- = 1520284741\n",
      "2009 / -07- = 1202339588\n",
      "2009 / -08- = 803565587\n",
      "2009 / -09- = 393041320\n",
      "2009 / -10- = 836577088\n",
      "2009 / -11- = 558158975\n",
      "2009 / -12- = 3423239738\n",
      "2009 = 3423239738\n",
      "2010 / -01- = 233051923\n",
      "2010 / -02- = 671341193\n",
      "2010 / -03- = 1471122239\n",
      "2010 / -04- = 841530415\n",
      "2010 / -05- = 1105092975\n",
      "2010 / -06- = 2449561498\n",
      "2010 / -07- = 1567485183\n",
      "2010 / -08- = 971023396\n",
      "2010 / -09- = 1091274243\n",
      "2010 / -10- = 1080204976\n",
      "2010 / -11- = 736020890\n",
      "2010 / -12- = 899583599\n",
      "2010 = 899583599\n",
      "2011 / -01- = 591644835\n",
      "2011 / -02- = 642751509\n",
      "2011 / -03- = 1443419914\n",
      "2011 / -04- = 1507477958\n",
      "2011 / -05- = 1917491757\n",
      "2011 / -06- = 1524706926\n",
      "2011 / -07- = 2331661017\n",
      "2011 / -08- = 667283164\n",
      "2011 / -09- = 733166385\n",
      "2011 / -10- = 968743489\n",
      "2011 / -11- = 859313689\n",
      "2011 / -12- = 1542580698\n",
      "2011 = 1542580698\n",
      "2012 / -01- = 381045653\n",
      "2012 / -02- = 573073426\n",
      "2012 / -03- = 1459834347\n",
      "2012 / -04- = 1767272417\n",
      "2012 / -05- = 1140614925\n",
      "2012 / -06- = 2965481705\n",
      "2012 / -07- = 940512033\n",
      "2012 / -08- = 702588445\n",
      "2012 / -09- = 1308166465\n",
      "2012 / -10- = 1320250459\n",
      "2012 / -11- = 2412991475\n",
      "2012 / -12- = 1105170337\n",
      "2012 = 1105170337\n",
      "2013 / -01- = 449051535\n",
      "2013 / -02- = 509981099\n",
      "2013 / -03- = 970223425\n",
      "2013 / -04- = 1423545114\n",
      "2013 / -05- = 1724496337\n",
      "2013 / -06- = 2411922008\n",
      "2013 / -07- = 1192996016\n",
      "2013 / -08- = 590070005\n",
      "2013 / -09- = 1165693297\n",
      "2013 / -10- = 1042812263\n",
      "2013 / -11- = 2047380217\n",
      "2013 / -12- = 1715008475\n",
      "2013 = 1715008475\n",
      "2014 / -01- = 541637085\n",
      "2014 / -02- = 736685970\n",
      "2014 / -03- = 1768873778\n",
      "2014 / -04- = 795767674\n",
      "2014 / -05- = 2279978281\n",
      "2014 / -06- = 1176264662\n",
      "2014 / -07- = 1611081683\n",
      "2014 / -08- = 1163610627\n",
      "2014 / -09- = 596366679\n",
      "2014 / -10- = 1764509467\n",
      "2014 / -11- = 2043956761\n",
      "2014 / -12- = 1919080286\n",
      "2014 = 1919080286\n",
      "2015 / -01- = 630233784\n",
      "2015 / -02- = 884789565\n",
      "2015 / -03- = 937945994\n",
      "2015 / -04- = 2602565518\n",
      "2015 / -05- = 1103503482\n",
      "2015 / -06- = 3757679861\n",
      "2015 / -07- = 1552273188\n",
      "2015 / -08- = 491699146\n",
      "2015 / -09- = 1775686025\n",
      "2015 / -10- = 942161764\n",
      "2015 / -11- = 1212708544\n",
      "2015 / -12- = 2777325507\n",
      "2015 = 2777325507\n"
     ]
    }
   ],
   "source": [
    "mnt = ['-01-','-02-','-03-','-04-','-05-','-06-','-07-','-08-','-09-','-10-','-11-','-12-']\n",
    "tbl = []\n",
    "for y in range(2000,2016):\n",
    "    res = mv_d[mv_d['release_year'] == y]\n",
    "    for i in mnt:\n",
    "        prf = res[res.release_date.str.contains(i, na=False)].profit.sum()\n",
    "        print(y,'/', i,'=',res[res.release_date.str.contains(i, na=False)].profit.sum())\n",
    "    print(y, '=', prf.max())"
   ]
  },
  {
   "cell_type": "code",
   "execution_count": 101,
   "metadata": {},
   "outputs": [
    {
     "name": "stdout",
     "output_type": "stream",
     "text": [
      "Universal Pictures\n",
      "\t Simbols = 47\n",
      "\t Words = 9\n",
      "Warner Bros\n",
      "\t Simbols = 58\n",
      "\t Words = 10\n",
      "Jim Henson Company\n",
      "\t Simbols = 59\n",
      "\t Words = 10\n",
      "Paramount Pictures\n",
      "\t Simbols = 50\n",
      "\t Words = 9\n",
      "Four By Two Productions\n",
      "\t Simbols = 83\n",
      "\t Words = 12\n"
     ]
    }
   ],
   "source": [
    "qst = ['Universal Pictures', 'Warner Bros', 'Jim Henson Company', 'Paramount Pictures', 'Four By Two Productions']\n",
    "for elm in qst:\n",
    "    print(elm)\n",
    "    print('\\t Simbols', '=', mv[mv['production_companies'].str.contains(elm)].original_title.str.len().max())\n",
    "    print('\\t Words', '=', mv[mv['production_companies'].str.contains(elm)].original_title.str.count(' ').max() + 1)"
   ]
  },
  {
   "cell_type": "code",
   "execution_count": 102,
   "metadata": {},
   "outputs": [
    {
     "name": "stdout",
     "output_type": "stream",
     "text": [
      "<class 'pandas.core.frame.DataFrame'>\n",
      "Int64Index: 2476 entries, 0 to 5136\n",
      "Data columns (total 1 columns):\n",
      " #   Column          Non-Null Count  Dtype \n",
      "---  ------          --------------  ----- \n",
      " 0   original_title  2476 non-null   object\n",
      "dtypes: object(1)\n",
      "memory usage: 38.7+ KB\n"
     ]
    }
   ],
   "source": [
    "wrds = pd.DataFrame(mv.original_title.str.split().sum())\n",
    "wrds.columns = ['original_title']\n",
    "wrds.drop_duplicates(subset = 'original_title', keep = 'first', inplace = True)\n",
    "wrds.info()"
   ]
  },
  {
   "cell_type": "code",
   "execution_count": 103,
   "metadata": {},
   "outputs": [
    {
     "data": {
      "text/plain": [
       "9    8.0\n",
       "Name: vote_average, dtype: float64"
      ]
     },
     "metadata": {},
     "output_type": "display_data"
    },
    {
     "data": {
      "text/plain": [
       "128    7.9\n",
       "Name: vote_average, dtype: float64"
      ]
     },
     "metadata": {},
     "output_type": "display_data"
    },
    {
     "data": {
      "text/plain": [
       "1192    7.9\n",
       "Name: vote_average, dtype: float64"
      ]
     },
     "metadata": {},
     "output_type": "display_data"
    },
    {
     "data": {
      "text/plain": [
       "1405    3.8\n",
       "Name: vote_average, dtype: float64"
      ]
     },
     "metadata": {},
     "output_type": "display_data"
    },
    {
     "data": {
      "text/plain": [
       "1082    7.9\n",
       "Name: vote_average, dtype: float64"
      ]
     },
     "metadata": {},
     "output_type": "display_data"
    },
    {
     "data": {
      "text/plain": [
       "1008    6.1\n",
       "Name: vote_average, dtype: float64"
      ]
     },
     "metadata": {},
     "output_type": "display_data"
    },
    {
     "data": {
      "text/plain": [
       "160     6.1\n",
       "571     5.4\n",
       "1663    5.1\n",
       "1683    7.0\n",
       "Name: vote_average, dtype: float64"
      ]
     },
     "metadata": {},
     "output_type": "display_data"
    },
    {
     "data": {
      "text/plain": [
       "1457    7.3\n",
       "Name: vote_average, dtype: float64"
      ]
     },
     "metadata": {},
     "output_type": "display_data"
    }
   ],
   "source": [
    "qst = ['Inside Out', 'Gone Girl', '12 Years a Slave', 'BloodRayne', 'The Lord of the Rings: The Return of the King', 'Upside Down', '300', 'Lucky Number Slevin']\n",
    "for elm in qst:\n",
    "    vlm = mv.vote_average[mv.original_title.str.contains(elm)]\n",
    "    display(vlm)"
   ]
  },
  {
   "cell_type": "code",
   "execution_count": 91,
   "metadata": {},
   "outputs": [
    {
     "data": {
      "text/plain": [
       "6"
      ]
     },
     "execution_count": 91,
     "metadata": {},
     "output_type": "execute_result"
    }
   ],
   "source": [
    "mv[(mv.cast.str.contains(\"Johnny Depp\"))&(mv.cast.str.contains(\"Helena Bonham Carter\"))].original_title.nunique()"
   ]
  },
  {
   "cell_type": "code",
   "execution_count": 87,
   "metadata": {},
   "outputs": [
    {
     "data": {
      "text/plain": [
       "5"
      ]
     },
     "execution_count": 87,
     "metadata": {},
     "output_type": "execute_result"
    }
   ],
   "source": [
    "mv[(mv.cast.str.contains(\"Hugh Jackman\"))&(mv.cast.str.contains(\"Ian McKellen\"))].original_title.nunique()"
   ]
  },
  {
   "cell_type": "code",
   "execution_count": 88,
   "metadata": {},
   "outputs": [
    {
     "data": {
      "text/plain": [
       "5"
      ]
     },
     "execution_count": 88,
     "metadata": {},
     "output_type": "execute_result"
    }
   ],
   "source": [
    "mv[(mv.cast.str.contains(\"Vin Diesel\"))&(mv.cast.str.contains(\"Paul Walker\"))].original_title.nunique()"
   ]
  },
  {
   "cell_type": "code",
   "execution_count": 89,
   "metadata": {},
   "outputs": [
    {
     "data": {
      "text/plain": [
       "5"
      ]
     },
     "execution_count": 89,
     "metadata": {},
     "output_type": "execute_result"
    }
   ],
   "source": [
    "mv[(mv.cast.str.contains(\"Adam Sandler\"))&(mv.cast.str.contains(\"Kevin James\"))].original_title.nunique()"
   ]
  },
  {
   "cell_type": "code",
   "execution_count": 90,
   "metadata": {},
   "outputs": [
    {
     "data": {
      "text/plain": [
       "8"
      ]
     },
     "execution_count": 90,
     "metadata": {},
     "output_type": "execute_result"
    }
   ],
   "source": [
    "mv[(mv.cast.str.contains(\"Daniel Radcliffe\"))&(mv.cast.str.contains(\"Rupert Grint\"))].original_title.nunique()"
   ]
  },
  {
   "cell_type": "code",
   "execution_count": 121,
   "metadata": {},
   "outputs": [
    {
     "name": "stdout",
     "output_type": "stream",
     "text": [
      "Quentin Tarantino\n",
      "\t % = 85\n",
      "Steven Soderbergh\n",
      "\t % = 76\n",
      "Robert Rodriguez\n",
      "\t % = 72\n",
      "Christopher Nolan\n",
      "\t % = 100\n",
      "Clint Eastwood\n",
      "\t % = 83\n"
     ]
    }
   ],
   "source": [
    "qst = ['Quentin Tarantino', 'Steven Soderbergh', 'Robert Rodriguez', 'Christopher Nolan', 'Clint Eastwood']\n",
    "for elm in qst:\n",
    "    print(elm)\n",
    "    ttl = mv[(mv.director.str.contains(elm))].original_title.nunique()\n",
    "    ovr = mv[(mv.director.str.contains(elm))&(mv['profit'] > 0)].original_title.nunique()\n",
    "    pers = ovr / ttl * 100\n",
    "    print('\\t %', '=', int(pers))"
   ]
  },
  {
   "cell_type": "code",
   "execution_count": null,
   "metadata": {},
   "outputs": [],
   "source": []
  }
 ],
 "metadata": {
  "kernelspec": {
   "display_name": "Python 3",
   "language": "python",
   "name": "python3"
  },
  "language_info": {
   "codemirror_mode": {
    "name": "ipython",
    "version": 3
   },
   "file_extension": ".py",
   "mimetype": "text/x-python",
   "name": "python",
   "nbconvert_exporter": "python",
   "pygments_lexer": "ipython3",
   "version": "3.7.6"
  }
 },
 "nbformat": 4,
 "nbformat_minor": 4
}
